{
 "cells": [
  {
   "cell_type": "code",
   "execution_count": 2,
   "id": "8cf238cc-5cc6-4bcd-aae0-25f223287d0b",
   "metadata": {},
   "outputs": [],
   "source": [
    "import pandas as pd\n",
    "import seaborn as sns"
   ]
  },
  {
   "cell_type": "code",
   "execution_count": 3,
   "id": "d3764b10-5536-435e-8744-3562eeeb6d49",
   "metadata": {},
   "outputs": [],
   "source": [
    "df = pd.read_csv('gpu-performance.csv')"
   ]
  },
  {
   "cell_type": "markdown",
   "id": "82b1b247-9819-4698-b37c-30f1a0124437",
   "metadata": {},
   "source": [
    "### Raw Data"
   ]
  },
  {
   "cell_type": "code",
   "execution_count": 4,
   "id": "f840060e-2bb0-48fd-b06e-964d36e8c4c2",
   "metadata": {},
   "outputs": [
    {
     "data": {
      "text/html": [
       "<div>\n",
       "<style scoped>\n",
       "    .dataframe tbody tr th:only-of-type {\n",
       "        vertical-align: middle;\n",
       "    }\n",
       "\n",
       "    .dataframe tbody tr th {\n",
       "        vertical-align: top;\n",
       "    }\n",
       "\n",
       "    .dataframe thead th {\n",
       "        text-align: right;\n",
       "    }\n",
       "</style>\n",
       "<table border=\"1\" class=\"dataframe\">\n",
       "  <thead>\n",
       "    <tr style=\"text-align: right;\">\n",
       "      <th></th>\n",
       "      <th>GPU</th>\n",
       "      <th>fit</th>\n",
       "      <th>Tensor_Cores</th>\n",
       "      <th>transistors_M</th>\n",
       "      <th>CUDA_Cores</th>\n",
       "      <th>TFLOPS_(FP16)</th>\n",
       "      <th>gpu_mem</th>\n",
       "      <th>CPUs</th>\n",
       "      <th>MEM_(GB)</th>\n",
       "    </tr>\n",
       "  </thead>\n",
       "  <tbody>\n",
       "    <tr>\n",
       "      <th>0</th>\n",
       "      <td>A100</td>\n",
       "      <td>280</td>\n",
       "      <td>432</td>\n",
       "      <td>54,000</td>\n",
       "      <td>6912</td>\n",
       "      <td>78.0000</td>\n",
       "      <td>40.5</td>\n",
       "      <td>12</td>\n",
       "      <td>85</td>\n",
       "    </tr>\n",
       "    <tr>\n",
       "      <th>1</th>\n",
       "      <td>V100</td>\n",
       "      <td>529</td>\n",
       "      <td>640</td>\n",
       "      <td>21,100</td>\n",
       "      <td>5120</td>\n",
       "      <td>31.4000</td>\n",
       "      <td>16.0</td>\n",
       "      <td>8</td>\n",
       "      <td>30</td>\n",
       "    </tr>\n",
       "    <tr>\n",
       "      <th>2</th>\n",
       "      <td>P100</td>\n",
       "      <td>846</td>\n",
       "      <td>0</td>\n",
       "      <td>15,300</td>\n",
       "      <td>3840</td>\n",
       "      <td>19.0000</td>\n",
       "      <td>16.0</td>\n",
       "      <td>4</td>\n",
       "      <td>15</td>\n",
       "    </tr>\n",
       "    <tr>\n",
       "      <th>3</th>\n",
       "      <td>T4</td>\n",
       "      <td>1508</td>\n",
       "      <td>320</td>\n",
       "      <td>14</td>\n",
       "      <td>2560</td>\n",
       "      <td>65.0000</td>\n",
       "      <td>16.0</td>\n",
       "      <td>8</td>\n",
       "      <td>30</td>\n",
       "    </tr>\n",
       "    <tr>\n",
       "      <th>4</th>\n",
       "      <td>T4-Colab</td>\n",
       "      <td>1608</td>\n",
       "      <td>320</td>\n",
       "      <td>14</td>\n",
       "      <td>2560</td>\n",
       "      <td>65.0000</td>\n",
       "      <td>16.0</td>\n",
       "      <td>2</td>\n",
       "      <td>12</td>\n",
       "    </tr>\n",
       "    <tr>\n",
       "      <th>5</th>\n",
       "      <td>K80</td>\n",
       "      <td>3184</td>\n",
       "      <td>0</td>\n",
       "      <td>7</td>\n",
       "      <td>4992</td>\n",
       "      <td>0.0000</td>\n",
       "      <td>12.0</td>\n",
       "      <td>4</td>\n",
       "      <td>15</td>\n",
       "    </tr>\n",
       "    <tr>\n",
       "      <th>6</th>\n",
       "      <td>Macbook-AMD-Metal</td>\n",
       "      <td>3769</td>\n",
       "      <td>0</td>\n",
       "      <td>6</td>\n",
       "      <td>0</td>\n",
       "      <td>6.4000</td>\n",
       "      <td>4.0</td>\n",
       "      <td>6</td>\n",
       "      <td>16</td>\n",
       "    </tr>\n",
       "    <tr>\n",
       "      <th>7</th>\n",
       "      <td>Macbook-CPU</td>\n",
       "      <td>57236</td>\n",
       "      <td>0</td>\n",
       "      <td>3,000</td>\n",
       "      <td>0</td>\n",
       "      <td>0.0025</td>\n",
       "      <td>0.0</td>\n",
       "      <td>6</td>\n",
       "      <td>16</td>\n",
       "    </tr>\n",
       "  </tbody>\n",
       "</table>\n",
       "</div>"
      ],
      "text/plain": [
       "                 GPU    fit  Tensor_Cores transistors_M  CUDA_Cores  \\\n",
       "0               A100    280           432        54,000        6912   \n",
       "1               V100    529           640        21,100        5120   \n",
       "2               P100    846             0        15,300        3840   \n",
       "3                 T4   1508           320            14        2560   \n",
       "4           T4-Colab   1608           320            14        2560   \n",
       "5                K80   3184             0             7        4992   \n",
       "6  Macbook-AMD-Metal   3769             0             6           0   \n",
       "7        Macbook-CPU  57236             0         3,000           0   \n",
       "\n",
       "   TFLOPS_(FP16)  gpu_mem  CPUs  MEM_(GB)  \n",
       "0        78.0000     40.5    12        85  \n",
       "1        31.4000     16.0     8        30  \n",
       "2        19.0000     16.0     4        15  \n",
       "3        65.0000     16.0     8        30  \n",
       "4        65.0000     16.0     2        12  \n",
       "5         0.0000     12.0     4        15  \n",
       "6         6.4000      4.0     6        16  \n",
       "7         0.0025      0.0     6        16  "
      ]
     },
     "execution_count": 4,
     "metadata": {},
     "output_type": "execute_result"
    }
   ],
   "source": [
    "df"
   ]
  },
  {
   "cell_type": "markdown",
   "id": "86cc3616-22e9-44ea-badd-a255db512e7f",
   "metadata": {},
   "source": [
    "## Peformance~GPU (less is faster)"
   ]
  },
  {
   "cell_type": "code",
   "execution_count": 14,
   "id": "701fb29e-376d-4859-b468-3a671078f7a6",
   "metadata": {},
   "outputs": [
    {
     "data": {
      "image/png": "[encoded data removed]",
      "text/plain": [
       "<Figure size 432x288 with 1 Axes>"
      ]
     },
     "metadata": {
      "needs_background": "light"
     },
     "output_type": "display_data"
    }
   ],
   "source": [
    "p = df[['GPU','fit']].iloc[:-1].plot.bar(x='GPU', y='fit', rot=45)"
   ]
  },
  {
   "cell_type": "code",
   "execution_count": 113,
   "id": "99885f17-6cfa-4dcd-ae59-cc8c3ea799ea",
   "metadata": {},
   "outputs": [
    {
     "data": {
      "text/html": [
       "<div>\n",
       "<style scoped>\n",
       "    .dataframe tbody tr th:only-of-type {\n",
       "        vertical-align: middle;\n",
       "    }\n",
       "\n",
       "    .dataframe tbody tr th {\n",
       "        vertical-align: top;\n",
       "    }\n",
       "\n",
       "    .dataframe thead th {\n",
       "        text-align: right;\n",
       "    }\n",
       "</style>\n",
       "<table border=\"1\" class=\"dataframe\">\n",
       "  <thead>\n",
       "    <tr style=\"text-align: right;\">\n",
       "      <th></th>\n",
       "      <th>fit</th>\n",
       "    </tr>\n",
       "  </thead>\n",
       "  <tbody>\n",
       "    <tr>\n",
       "      <th>CUDA_Cores</th>\n",
       "      <td>-0.567090</td>\n",
       "    </tr>\n",
       "    <tr>\n",
       "      <th>gpu_mem</th>\n",
       "      <td>-0.545376</td>\n",
       "    </tr>\n",
       "    <tr>\n",
       "      <th>TFLOPS_(FP16)</th>\n",
       "      <td>-0.454271</td>\n",
       "    </tr>\n",
       "    <tr>\n",
       "      <th>Tensor_Cores</th>\n",
       "      <td>-0.387415</td>\n",
       "    </tr>\n",
       "    <tr>\n",
       "      <th>MEM_(GB)</th>\n",
       "      <td>-0.223066</td>\n",
       "    </tr>\n",
       "    <tr>\n",
       "      <th>CPUs</th>\n",
       "      <td>-0.060719</td>\n",
       "    </tr>\n",
       "    <tr>\n",
       "      <th>fit</th>\n",
       "      <td>1.000000</td>\n",
       "    </tr>\n",
       "  </tbody>\n",
       "</table>\n",
       "</div>"
      ],
      "text/plain": [
       "                    fit\n",
       "CUDA_Cores    -0.567090\n",
       "gpu_mem       -0.545376\n",
       "TFLOPS_(FP16) -0.454271\n",
       "Tensor_Cores  -0.387415\n",
       "MEM_(GB)      -0.223066\n",
       "CPUs          -0.060719\n",
       "fit            1.000000"
      ]
     },
     "execution_count": 113,
     "metadata": {},
     "output_type": "execute_result"
    }
   ],
   "source": [
    "df.corr()[['fit']].sort_values('fit')"
   ]
  },
  {
   "cell_type": "code",
   "execution_count": 114,
   "id": "b4f70b1f-104a-425b-b3aa-99ac34f4e70e",
   "metadata": {},
   "outputs": [
    {
     "data": {
      "image/png": "[encoded data removed]",
      "text/plain": [
       "<Figure size 432x288 with 2 Axes>"
      ]
     },
     "metadata": {
      "needs_background": "light"
     },
     "output_type": "display_data"
    }
   ],
   "source": [
    "dataplot = sb.heatmap(df.corr(), cmap=\"YlGnBu\", annot=True)"
   ]
  }
 ],
 "metadata": {
  "kernelspec": {
   "display_name": "Python 3 (ipykernel)",
   "language": "python",
   "name": "python3"
  },
  "language_info": {
   "codemirror_mode": {
    "name": "ipython",
    "version": 3
   },
   "file_extension": ".py",
   "mimetype": "text/x-python",
   "name": "python",
   "nbconvert_exporter": "python",
   "pygments_lexer": "ipython3",
   "version": "3.10.2"
  }
 },
 "nbformat": 4,
 "nbformat_minor": 5
}
